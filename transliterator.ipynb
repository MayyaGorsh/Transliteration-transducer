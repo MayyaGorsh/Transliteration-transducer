{
  "nbformat": 4,
  "nbformat_minor": 0,
  "metadata": {
    "colab": {
      "provenance": [],
      "collapsed_sections": [
        "eFuK1ocXBGgQ",
        "xJZwPUdwBAZU"
      ]
    },
    "kernelspec": {
      "name": "python3",
      "display_name": "Python 3"
    },
    "language_info": {
      "name": "python"
    }
  },
  "cells": [
    {
      "cell_type": "markdown",
      "source": [
        "Горшенина Майя\n"
        ],
      "metadata": {
        "id": "nH-7mpjL_TRZ"
      }
    },
    {
      "cell_type": "markdown",
      "source": [
        "##Какой язык?\n",
        "Я буду разрабатывать систему транслитерации **хираганы** (один из трех методов письма на японском) **на русский**.\n",
        "\n",
        "В японском есть два алфавита, хирагана и катакана, позволяющие записывать слова по слогам (примерно то же, что по буквам).\n",
        "А также есть иероглифографическое письмо.\n",
        "\n",
        "Я выбрала хирагану, поскольку она более распространена чем катакана в силу области применения, а транслитерация иероглифографического письма - работа на всю жизнь.\n",
        "\n",
        "##Почему нужен трансдьюсер?\n",
        "\n",
        "*   некоторые гласные редуцируются в определенном контексте\n",
        "*   символ 2, следующий за символом 1, может менять прочтение символа 1\n",
        "*   согласные и гласные могут удлинняться в зависимости от контекста\n",
        "\n",
        "##Работа программы\n",
        "\n",
        "\n",
        "*   Программа принимает предложение из файла с символами **unicode** и работает на основе номеров символов хираганы в таблицах unicode.\n",
        "*   Предложение должно состаять только из символов хираганы и пробелов, иначе оно будет считаться некорректным\n",
        "\n",
        "\n",
        "\n",
        "\n",
        "\n"
      ],
      "metadata": {
        "id": "mpgmhWoK3fuV"
      }
    },
    {
      "cell_type": "markdown",
      "source": [
        "Правила, которые я учитываю (мб я не знаю еще каких-то правил)\n",
        "\n",
        "\n",
        "*   сокуон (малое っ) удваивает следующую согласную. не может повиться в начале и в конце слова или перед гласной\n",
        "*   Н перед билабиальными (П, Ф, Б, М) меняется на М (удвоение сокуоном происходит после замены)\n",
        "*   И и У редуцируются в Ь и Ъ между двумя глухими согласными\n",
        "*   У редуцируется до нуля на конце предложения в суффиксе СУ\n",
        "*   малые гласные появляются только после слогов вида \"согласный + И\", делают новый слог\n",
        "* гласная считается долгой, если после нее написана та же гласная (большая), или если после Э написано И (долгий Э), или если после О написано У\n",
        "\n"
      ],
      "metadata": {
        "id": "QOTWezQEKfcB"
      }
    },
    {
      "cell_type": "markdown",
      "source": [
        "# Создание словаря символов"
      ],
      "metadata": {
        "id": "6tHW7H4wz_3l"
      }
    },
    {
      "cell_type": "markdown",
      "source": [
        "### Кортежи символов\n",
        "В японском слоги бывают трех типов: гласный, согласный+гласный, слог N. Разобьем слоги по группам в соответствии со звуками, которые в них содержатся"
      ],
      "metadata": {
        "id": "eFuK1ocXBGgQ"
      }
    },
    {
      "cell_type": "markdown",
      "source": [
        "Перечислим все слоги, в которых ест определенный звук. Это понадобится нам для самой транслитерации\n",
        "\n",
        "примечание 1: символ=слог\n",
        "\n",
        "примечание 2: в программе всегда используется код символа, и никогда - сам символ. поскольку названия переменных и функций и так состоят и кучи слов, я решила не добавлять к ним _code. мне кажется, это бы не облегчило а утяжелило чтение кода"
      ],
      "metadata": {
        "id": "d6vv1VKrAE1O"
      }
    },
    {
      "cell_type": "code",
      "source": [
        "# static data for interpreting ONLY\n",
        "a_symbols = ('3042', '304b', '304c', '3055', '3056', '305f', '3060', '306a',\n",
        "             '306f', '3070', '3071', '307e', '3084', '3089', '308f')\n",
        "i_symbols = ('3044', '304d', '304e', '3057', '3058', '3061', '3062', '306b',\n",
        "             '3072', '3073', '3074', '307f', '308a')\n",
        "u_symbols = ('3046', '304f', '3050', '3059', '305a', '3064', '3065', '306c',\n",
        "             '3075', '3076', '3077', '3080', '3086', '308b')\n",
        "e_symbols = ('3048', '3051', '3052', '305b', '305c', '3066', '3067', '306d',\n",
        "             '3078', '3079', '307a', '3081', '308c')\n",
        "o_symbols = ('304a', '3053', '3054', '305d', '305e', '3068', '3069', '306e',\n",
        "             '307b', '307c', '307d', '3082', '3088', '308d', '3092')\n",
        "\n",
        "k_symbols = ('304b', '304d', '304f', '3051', '3053')\n",
        "g_symbols = ('304c', '304e', '3050', '3052', '3054')\n",
        "s_symbols = ('3055', '3059', '305b', '305d')\n",
        "z_symbols = ('3056', '305a', '305c', '305e')\n",
        "sh_symbols = ('3057',)\n",
        "t_symbols = ('305f', '3066', '3068')\n",
        "d_symbols = ('3060', '3067', '3069')\n",
        "ts_symbols = ('3064',)\n",
        "ch_symbols = ('3061',)\n",
        "dz_symbols = ('3058', '3062', '3065')\n",
        "n_symbols = ('306a', '306b', '306c', '306d', '306e',\n",
        "             '3093') # includes the single-n syll\n",
        "h_symbols = ('306f', '3072', '3078', '307b')\n",
        "b_symbols = ('3070', '3073', '3076', '3079', '307c')\n",
        "p_symbols = ('3071', '3074', '3077', '307a', '307d')\n",
        "f_symbols = ('3075',)\n",
        "m_symbols = ('307e', '307f', '3080', '3081', '3082')\n",
        "y_symbols = ('3084', '3086', '3088')\n",
        "r_symbols = ('3089', '308a', '308b', '308c', '308d')\n",
        "w_symbols = ('308f', '3092')"
      ],
      "metadata": {
        "id": "lc4W6M3d0HT7"
      },
      "execution_count": 35,
      "outputs": []
    },
    {
      "cell_type": "markdown",
      "source": [
        "Теперь перечислим все малые символы"
      ],
      "metadata": {
        "id": "5v6oAJeuAdky"
      }
    },
    {
      "cell_type": "code",
      "source": [
        "small_tsu_symbols = ('3063',)\n",
        "small_vowel_symbols = ('3083', '3085', '3087')"
      ],
      "metadata": {
        "id": "BOLd7yF5Aicy"
      },
      "execution_count": 36,
      "outputs": []
    },
    {
      "cell_type": "markdown",
      "source": [
        "Теперь создадим кортежи символов в зависимости от их класса: определенные типы слогов и группы фонем. Это нужно для работы автомата"
      ],
      "metadata": {
        "id": "uRDhJm6BAls1"
      }
    },
    {
      "cell_type": "code",
      "source": [
        "# static data for the automaton\n",
        "stop_symbols = ('5e',)  # ^\n",
        "space_symbols = ('20',)  # space\n",
        "vowel_symbols = ('3042', '3044', '3046', '3048', '304a')  # single vowel syllables\n",
        "cons_plus_vow_symbols = k_symbols + g_symbols + s_symbols + z_symbols + sh_symbols + \\\n",
        "                        t_symbols + d_symbols + ts_symbols + ch_symbols + dz_symbols + \\\n",
        "                        h_symbols + b_symbols + p_symbols + f_symbols + \\\n",
        "                        m_symbols + y_symbols + r_symbols + w_symbols + \\\n",
        "                        ('306a', '306b', '306c', '306d', '306e') # including n+vow syllables\n",
        "n_syll_symbols = ('3093',)  # single n syllable\n",
        "\n",
        "voiceless_symbols = k_symbols + s_symbols + sh_symbols + t_symbols + ts_symbols + ch_symbols + \\\n",
        "                    h_symbols + p_symbols + f_symbols\n",
        "bilabial_symbols = m_symbols + b_symbols + p_symbols + f_symbols"
      ],
      "metadata": {
        "id": "5bdCugIxAjPB"
      },
      "execution_count": 37,
      "outputs": []
    },
    {
      "cell_type": "markdown",
      "source": [
        "### Функции для работы со словарем\n",
        "\n",
        "сам автомат будет работать с номерами символов в таблице юникода. поэтому нам нужны функции, связывающие японские символы, автомат и русские символы"
      ],
      "metadata": {
        "id": "xJZwPUdwBAZU"
      }
    },
    {
      "cell_type": "markdown",
      "source": [
        "Функция которая принимает на вход символ (кодировка utf-8) и возвращает его 16-ричный код.\n",
        "\n",
        "Это нужно, чтобы автомат по символу понимал, с чем работает. 16-ричный (а не 10-ричный) код используется в таблицах unicod и используется у меня в программе, чтобы удобнее было отслеживать ее работу"
      ],
      "metadata": {
        "id": "7TFpPXFcBP56"
      }
    },
    {
      "cell_type": "code",
      "source": [
        "def get_code(char):\n",
        "    return hex(ord(char)).lower()[2:]"
      ],
      "metadata": {
        "id": "Obh_NJ-AA_c-"
      },
      "execution_count": 38,
      "outputs": []
    },
    {
      "cell_type": "markdown",
      "source": [
        "И обратная функция для получения символа по 16-ричному коду (для вывода)"
      ],
      "metadata": {
        "id": "A3LD8fzpL9nM"
      }
    },
    {
      "cell_type": "code",
      "source": [
        "def get_symbol(order):\n",
        "    return chr(int(order, 16))"
      ],
      "metadata": {
        "id": "FmH2Wv-6MBn4"
      },
      "execution_count": 39,
      "outputs": []
    },
    {
      "cell_type": "markdown",
      "source": [
        "Функция которая возвращает гласный звук, содержащийся в символе.\n",
        "\n",
        "Принимает 16-ричный код символа, возвращает русскую букву. Если гласного звука нет (слог ん или вообще не японский символ) возвращает пустоту"
      ],
      "metadata": {
        "id": "lRz1oIrNCFYS"
      }
    },
    {
      "cell_type": "code",
      "source": [
        "def interpret_vow(syll_code):\n",
        "    if syll_code in a_symbols:\n",
        "        return \"а\"\n",
        "    elif syll_code in i_symbols:\n",
        "        return \"и\"\n",
        "    elif syll_code in u_symbols:\n",
        "        return \"у\"\n",
        "    elif syll_code in e_symbols:\n",
        "        return \"э\"\n",
        "    elif syll_code in o_symbols:\n",
        "        return \"о\"\n",
        "    return '' # no vowel"
      ],
      "metadata": {
        "id": "mU7fhaaNCdXx"
      },
      "execution_count": 40,
      "outputs": []
    },
    {
      "cell_type": "markdown",
      "source": [
        "Функция которая возвращает согласный звук, содержащийся в символе.\n",
        "\n",
        "Работает по тому же принципу, что и предыдущая"
      ],
      "metadata": {
        "id": "fUTSjJP_Ch8K"
      }
    },
    {
      "cell_type": "code",
      "source": [
        "def interpret_cons(syll_code):\n",
        "    if syll_code in k_symbols:\n",
        "        return \"к\"\n",
        "    elif syll_code in g_symbols:\n",
        "        return \"г\"\n",
        "    elif syll_code in s_symbols:\n",
        "        return \"с\"\n",
        "    elif syll_code in z_symbols:\n",
        "        return \"з\"\n",
        "    elif syll_code in sh_symbols:\n",
        "        return \"щ\"\n",
        "    elif syll_code in t_symbols:\n",
        "        return \"т\"\n",
        "    elif syll_code in d_symbols:\n",
        "        return \"д\"\n",
        "    elif syll_code in ts_symbols:\n",
        "        return \"ц\"\n",
        "    elif syll_code in ch_symbols:\n",
        "        return \"ч\"\n",
        "    elif syll_code in dz_symbols:\n",
        "        return \"дз\"\n",
        "    elif syll_code in n_symbols:\n",
        "        return \"н\"\n",
        "    elif syll_code in h_symbols:\n",
        "        return \"х\"\n",
        "    elif syll_code in b_symbols:\n",
        "        return \"б\"\n",
        "    elif syll_code in p_symbols:\n",
        "        return \"п\"\n",
        "    elif syll_code in f_symbols:\n",
        "        return \"ф\"\n",
        "    elif syll_code in m_symbols:\n",
        "        return \"м\"\n",
        "    elif syll_code in y_symbols:\n",
        "        return \"й\"\n",
        "    elif syll_code in r_symbols:\n",
        "        return \"р\"\n",
        "    elif syll_code in w_symbols:\n",
        "        return \"у\"  # уатащи\n",
        "    return '' # no cons\n"
      ],
      "metadata": {
        "id": "neYJAcA8CpjA"
      },
      "execution_count": 41,
      "outputs": []
    },
    {
      "cell_type": "markdown",
      "source": [
        "Функция которая возвращает гласный звук, который замещает звук И в предыдущем слоге. (Ми + Я = Мя)\n",
        "\n",
        "Работает по тому же принципу, что и предыдущая. Нужна для работы с малыми символами"
      ],
      "metadata": {
        "id": "xoODl6xrC50W"
      }
    },
    {
      "cell_type": "code",
      "source": [
        "def interpret_small_vow(syll_code):\n",
        "    if syll_code == '3083':\n",
        "        return \"я\"\n",
        "    elif syll_code == '3085':\n",
        "        return \"ю\"\n",
        "    elif syll_code == '3087':\n",
        "        return \"ё\"\n",
        "    return ''"
      ],
      "metadata": {
        "id": "kAawERGwC9rM"
      },
      "execution_count": 42,
      "outputs": []
    },
    {
      "cell_type": "markdown",
      "source": [
        "# Автомат"
      ],
      "metadata": {
        "id": "zYIBjiJO0FTg"
      }
    },
    {
      "cell_type": "code",
      "source": [
        "from collections import deque  # stack"
      ],
      "metadata": {
        "id": "RIf-UAxVD15f"
      },
      "execution_count": 43,
      "outputs": []
    },
    {
      "cell_type": "markdown",
      "source": [
        "Значение определенного символа может зависеть от предыдущих или последующих символов. Все символы, значение которых пока неоднозначно мы будем хранить в стеке.\n",
        "\n",
        "Точнее, в стеке будет храниться символ и состояние, в котором этот символ был занесен в стек.\n",
        "\n",
        "Напишем маленький класс, чтобы элементы стека были читабельнее"
      ],
      "metadata": {
        "id": "M4oUF5eED4vs"
      }
    },
    {
      "cell_type": "code",
      "source": [
        "class MyStackUnit:\n",
        "    syll = None  # unicode char (japanese)\n",
        "    state = None  # state from which i came\n",
        "\n",
        "    def __init__(self, syll, state):\n",
        "        self.syll = syll\n",
        "        self.state = state\n",
        "\n",
        "\n",
        "    def __str__(self):\n",
        "        return f'{get_symbol(self.syll)} from {self.state}'"
      ],
      "metadata": {
        "id": "J1_okromEhes"
      },
      "execution_count": 44,
      "outputs": []
    },
    {
      "cell_type": "markdown",
      "source": [
        "И создадим функцию, которая выводит состояние автомата и стек в определенный момент"
      ],
      "metadata": {
        "id": "0PuYnA-7LxYm"
      }
    },
    {
      "cell_type": "code",
      "source": [
        "def print_state_and_stack(state):\n",
        "    global need_clarifying_stack\n",
        "\n",
        "    print(f'im in {state}, here is the stack: [ ', end='')\n",
        "    stack_copy = need_clarifying_stack.copy()\n",
        "    while stack_copy:\n",
        "        print(stack_copy.pop(), end=', ') # stack means printing one at a time\n",
        "    print(']')"
      ],
      "metadata": {
        "id": "BVeRhk1JL4N5"
      },
      "execution_count": 45,
      "outputs": []
    },
    {
      "cell_type": "markdown",
      "source": [
        "### Базовые состояния\n",
        "\n",
        "Базовые состояния автомата говорят о том, что на данную итерацию не влияет ничего, что происходило в автомате ранее.\n",
        "\n",
        "Автомат работает по такому принципу: читается символ из входной строки, затем осуществляется переход в новое состояние (соответствующее этому символу) или выкидывается ошибка.\n",
        "\n",
        "Например, если в начале слова не может быть малого っ, то попытка перейти из состояния begin_word в состояние small_tsu вызовет ошибку."
      ],
      "metadata": {
        "id": "Np7sXtmIE6YC"
      }
    },
    {
      "cell_type": "markdown",
      "source": [
        "Теперь создадим первое состояние. В него автомат заходит, когда слово начинается.\n",
        "\n",
        "В начале слова могут стоять слог гл, слог согл+гл, слог n"
      ],
      "metadata": {
        "id": "NnPqRxfyEwnd"
      }
    },
    {
      "cell_type": "code",
      "source": [
        "# state function (major)\n",
        "def begin_word():\n",
        "    global input_str\n",
        "    global output_str\n",
        "    global pos_in_input_str\n",
        "    global need_clarifying_stack\n",
        "    global error_occurred\n",
        "\n",
        "    print_state_and_stack('begin_word')\n",
        "\n",
        "    if pos_in_input_str >= len(input_str):\n",
        "        return True  # empty line\n",
        "    current_syll = get_code(input_str[pos_in_input_str])\n",
        "\n",
        "    if current_syll in stop_symbols:\n",
        "        pos_in_input_str += 1\n",
        "        return True  # empty line\n",
        "\n",
        "    if current_syll in space_symbols:\n",
        "        pos_in_input_str += 1\n",
        "        output_str += ' '\n",
        "        begin_word()\n",
        "        return True\n",
        "\n",
        "    elif current_syll in small_tsu_symbols or current_syll in small_vowel_symbols:\n",
        "        error_occurred = True  # a word cant begin with small symbs\n",
        "        return False\n",
        "\n",
        "    elif current_syll in vowel_symbols:\n",
        "        vow_syll()\n",
        "        return True\n",
        "\n",
        "    elif current_syll in n_syll_symbols:\n",
        "        n_syll()\n",
        "        return True\n",
        "\n",
        "    elif current_syll in cons_plus_vow_symbols:\n",
        "        cons_from_cons_plus_vow_syll()\n",
        "        return True\n",
        "\n",
        "    else:\n",
        "        error_occurred = True\n",
        "        return False  # not japanese\n"
      ],
      "metadata": {
        "id": "ZDfD-DWWGGQ0"
      },
      "execution_count": 1,
      "outputs": []
    },
    {
      "cell_type": "markdown",
      "source": [
        "Теперь создадим второе состояние. В него автомат заходит, когда на слог, который сейчас будет прочитан, ничего не влияет.\n",
        "\n",
        "Это переходное состояние, которое вызывает другие состояния. В начале независимого слога могут стоять слог гл, слог согл+гл, слог n, малое っ"
      ],
      "metadata": {
        "id": "DqVU7YzLGN2Q"
      }
    },
    {
      "cell_type": "code",
      "source": [
        "# state function (major)\n",
        "def new_syll():\n",
        "    global input_str\n",
        "    global output_str\n",
        "    global pos_in_input_str\n",
        "    global need_clarifying_stack\n",
        "    global error_occurred\n",
        "\n",
        "    print_state_and_stack('new_syll')\n",
        "\n",
        "    if pos_in_input_str >= len(input_str):\n",
        "        return True   # end of word\n",
        "    current_syll = get_code(input_str[pos_in_input_str])\n",
        "\n",
        "    if current_syll in stop_symbols:\n",
        "        pos_in_input_str += 1  # in case we need to verify if we checked all symbols\n",
        "        return True  # end of word\n",
        "\n",
        "    if current_syll in space_symbols:\n",
        "        pos_in_input_str += 1  # end of word\n",
        "        output_str += ' '\n",
        "        begin_word()\n",
        "        return True\n",
        "\n",
        "    elif current_syll in small_tsu_symbols:\n",
        "        small_tsu()\n",
        "        return True\n",
        "\n",
        "    elif current_syll in vowel_symbols:\n",
        "        vow_syll()\n",
        "        return True\n",
        "\n",
        "    elif current_syll in small_vowel_symbols:\n",
        "        error_occurred = True\n",
        "        return False # syllables do not start with a small vowel\n",
        "\n",
        "    elif current_syll in n_syll_symbols:\n",
        "        n_syll()\n",
        "        return True\n",
        "\n",
        "    elif current_syll in cons_plus_vow_symbols:\n",
        "        cons_from_cons_plus_vow_syll()\n",
        "        return True\n",
        "\n",
        "    else:\n",
        "        error_occurred = True\n",
        "        return False  # not japanese"
      ],
      "metadata": {
        "id": "h4JZEUASGn-Z"
      },
      "execution_count": 2,
      "outputs": []
    },
    {
      "cell_type": "markdown",
      "source": [
        "### Состояния для конкретных слогов\n",
        "\n",
        "В эти состояния автомат входит, когда ему на вход подается соответствующий тип слога"
      ],
      "metadata": {
        "id": "HynCrTajMozk"
      }
    },
    {
      "cell_type": "markdown",
      "source": [
        "Создадим состояние для слога состоящего из одной гласной.\n",
        "\n",
        "В этом состоянии реализовано правило удлиннения гласной."
      ],
      "metadata": {
        "id": "yVxI8xX2Mz1q"
      }
    },
    {
      "cell_type": "code",
      "source": [
        "# state function\n",
        "def vow_syll():\n",
        "    global input_str\n",
        "    global output_str\n",
        "    global pos_in_input_str\n",
        "    global need_clarifying_stack\n",
        "    global error_occurred\n",
        "\n",
        "    print_state_and_stack('vow_syll')\n",
        "\n",
        "    current_syll = get_code(input_str[pos_in_input_str])\n",
        "    # not changing the pos bcs i was sent here after an input\n",
        "\n",
        "    if need_clarifying_stack:\n",
        "        previous_syll = need_clarifying_stack.pop().syll\n",
        "        current_vow_rus = interpret_vow(current_syll)\n",
        "        previous_vow_rus = interpret_vow(previous_syll)\n",
        "        # the cons is already interpreted\n",
        "        if current_vow_rus == 'у' and previous_vow_rus == 'о':\n",
        "            output_str += \"о\" + \"о\"  # U prolongs O\n",
        "        elif current_vow_rus == 'и' and previous_vow_rus == 'э':\n",
        "            output_str += \"э\" + \"э\"  # I prolongs E\n",
        "        else:\n",
        "            output_str += previous_vow_rus + current_vow_rus\n",
        "            # both same and different vowels\n",
        "    else:\n",
        "        output_str += interpret_vow(current_syll)\n",
        "\n",
        "    pos_in_input_str += 1\n",
        "    # switch to new syll bcs a vowel syll can't affect what's next\n",
        "    new_syll()\n",
        "    return True\n"
      ],
      "metadata": {
        "id": "UNQHnaK5NHq_"
      },
      "execution_count": 48,
      "outputs": []
    },
    {
      "cell_type": "markdown",
      "source": [
        "Создадим состояние для слога состоящего из звука n.\n",
        "\n",
        "В этом состоянии реализовано правило удлиннения согласной n.\n",
        "Я повторяю 3 строчки кода, потому что мне нужно сначала очистить стек от потенциального малого っ, а потом уже переходить к другому символу"
      ],
      "metadata": {
        "id": "oXT2bn1ONhDU"
      }
    },
    {
      "cell_type": "code",
      "source": [
        "# state function\n",
        "def n_syll():\n",
        "    global input_str\n",
        "    global output_str\n",
        "    global pos_in_input_str\n",
        "    global need_clarifying_stack\n",
        "    global error_occurred\n",
        "\n",
        "    print_state_and_stack('n_syll')\n",
        "\n",
        "    current_syll = get_code(input_str[pos_in_input_str])\n",
        "    # not changing the pos bcs i was sent here after an input\n",
        "\n",
        "    pos_in_input_str += 1  # read next symbol\n",
        "    if pos_in_input_str >= len(input_str):\n",
        "        if need_clarifying_stack:\n",
        "            previous_syll = need_clarifying_stack.pop().syll\n",
        "            # small tsu. need to delete\n",
        "            output_str += 'н'  # double n\n",
        "        output_str += 'н'\n",
        "        return True\n",
        "\n",
        "    next_syll = get_code(input_str[pos_in_input_str])\n",
        "\n",
        "    if next_syll in stop_symbols:\n",
        "        pos_in_input_str += 1\n",
        "        if need_clarifying_stack:\n",
        "            previous_syll = need_clarifying_stack.pop().syll  # small tsu\n",
        "            output_str += 'н'  # double n\n",
        "        output_str += 'н'\n",
        "        return True\n",
        "\n",
        "    if next_syll in space_symbols:\n",
        "        pos_in_input_str += 1\n",
        "        if need_clarifying_stack:\n",
        "            previous_syll = need_clarifying_stack.pop().syll  # small tsu\n",
        "            output_str += 'н'  # double n\n",
        "        output_str += 'н'\n",
        "        output_str += ' '\n",
        "        begin_word()\n",
        "        return True\n",
        "\n",
        "    elif next_syll in small_tsu_symbols:\n",
        "        # tsu cant affect those before it\n",
        "        if need_clarifying_stack:\n",
        "            previous_syll = need_clarifying_stack.pop().syll  # small tsu\n",
        "            output_str += 'н'  # double N\n",
        "        output_str += 'н'\n",
        "        small_tsu()\n",
        "        return True\n",
        "\n",
        "    elif next_syll in vowel_symbols:\n",
        "        # vowels dont affect N\n",
        "        if need_clarifying_stack:\n",
        "            previous_syll = need_clarifying_stack.pop().syll  # small tsu\n",
        "            output_str += 'н'  # double N\n",
        "        output_str += 'н'\n",
        "        vow_syll()\n",
        "        return True\n",
        "\n",
        "    elif next_syll in small_vowel_symbols:\n",
        "        error_occurred = True\n",
        "        return False  # small vowel only after cons+i\n",
        "\n",
        "    elif next_syll in n_syll_symbols:\n",
        "        if need_clarifying_stack:\n",
        "            previous_syll = need_clarifying_stack.pop().syll  # small tsu\n",
        "            output_str += 'н'  # double N\n",
        "        output_str += 'н'\n",
        "        n_syll()\n",
        "        return True\n",
        "\n",
        "    elif next_syll in cons_plus_vow_symbols:\n",
        "        need_clarifying_stack.append(MyStackUnit(syll=current_syll,\n",
        "                                                 state='n_syll'))\n",
        "        # N can become M\n",
        "        cons_from_cons_plus_vow_syll()\n",
        "        return True\n",
        "\n",
        "    else:\n",
        "        error_occurred = True\n",
        "        return False  # not a jap symbol\n"
      ],
      "metadata": {
        "id": "ZkzuchrGNoDA"
      },
      "execution_count": 49,
      "outputs": []
    },
    {
      "cell_type": "markdown",
      "source": [
        "Создадим состояние для малого っ.\n",
        "\n",
        "В этом состоянии начинается правило удлиннения согласной.\n",
        "Состояние либо вызывает другие состояния (если следующий слог содержит согласный), либо выкидывает ошибку"
      ],
      "metadata": {
        "id": "RCRhiGywOHOf"
      }
    },
    {
      "cell_type": "code",
      "source": [
        "# state function\n",
        "def small_tsu():\n",
        "    global input_str\n",
        "    global output_str\n",
        "    global pos_in_input_str\n",
        "    global need_clarifying_stack\n",
        "    global error_occurred\n",
        "\n",
        "    print_state_and_stack('small_tsu')\n",
        "\n",
        "    current_syll = get_code(input_str[pos_in_input_str])\n",
        "    # not changing the pos bcs i was sent here after an input\n",
        "\n",
        "    pos_in_input_str += 1  # read next symbol\n",
        "    if pos_in_input_str >= len(input_str):\n",
        "        pos_in_input_str -= 1  # tsu cant be the end of a word\n",
        "        error_occurred = True\n",
        "        return False\n",
        "    next_syll = get_code(input_str[pos_in_input_str])\n",
        "\n",
        "    if next_syll in stop_symbols or next_syll in space_symbols:\n",
        "        pos_in_input_str -= 1  # tsu cant be the end of a word\n",
        "        error_occurred = True\n",
        "        return False\n",
        "\n",
        "    if next_syll in n_syll_symbols:\n",
        "        need_clarifying_stack.append(MyStackUnit(syll=current_syll,\n",
        "                                                 state='small_tsu'))\n",
        "        n_syll()\n",
        "        return True\n",
        "    if next_syll in cons_plus_vow_symbols:\n",
        "        need_clarifying_stack.append(MyStackUnit(syll=current_syll,\n",
        "                                                 state='small_tsu'))\n",
        "        cons_from_cons_plus_vow_syll()\n",
        "        return True\n",
        "\n",
        "    error_occurred = True\n",
        "    return False  # in all other cases"
      ],
      "metadata": {
        "id": "EctFLbHrOLVh"
      },
      "execution_count": 50,
      "outputs": []
    },
    {
      "cell_type": "markdown",
      "source": [
        "### Состояния для слога согл+гл\n",
        "Эти функции сложно связаны между собой и с остальными, поэтому выношу их в отдельный раздел"
      ],
      "metadata": {
        "id": "vZMjkzEzOkzI"
      }
    },
    {
      "cell_type": "markdown",
      "source": [
        "Создадим состояние для интерпретации согласного в слоге формата согл+гл.\n",
        "\n",
        "В это состояние автомат может зайти из любого другого. Состояние нужно, чтобы очистить стек (потому что именно согласный в слоге согл+гл влияет на предыдущие звуки, уже обработанные автоматом)\n",
        "\n",
        "В этом состоянии реализовано правило удвоения согласной и аккомодация N к билабиальному согласному"
      ],
      "metadata": {
        "id": "fdCTrQkROK0R"
      }
    },
    {
      "cell_type": "code",
      "source": [
        "# state function\n",
        "def cons_from_cons_plus_vow_syll():\n",
        "    global input_str\n",
        "    global output_str\n",
        "    global pos_in_input_str\n",
        "    global need_clarifying_stack\n",
        "    global error_occurred\n",
        "\n",
        "    print_state_and_stack('cons_from_cons_plus_vow_syll')\n",
        "\n",
        "    current_syll = get_code(input_str[pos_in_input_str])\n",
        "    # not changing the pos bcs i was sent here after an input\n",
        "\n",
        "    # i will clear the stack before moving on to the vowel\n",
        "    # or else i'll get ENORMOUS chains\n",
        "    # the cons itself doesnt depend on anything so i can interpret it\n",
        "    # and everything before it\n",
        "    if need_clarifying_stack:\n",
        "        previous_syll_unit = need_clarifying_stack.pop()\n",
        "        # last el popped, possible length: 1 (tsu before n) or 0\n",
        "\n",
        "        if previous_syll_unit.state == 'n_syll':\n",
        "            if current_syll in bilabial_symbols:\n",
        "                to_add_to_output = 'м'  # N + PA = MPA\n",
        "                if need_clarifying_stack:\n",
        "                    need_clarifying_stack.pop()  # tsu + N + PA = MMPA\n",
        "                    to_add_to_output = 'м' + to_add_to_output\n",
        "            else:\n",
        "                to_add_to_output = 'н'  # N + KA = NKA\n",
        "                if need_clarifying_stack:\n",
        "                    need_clarifying_stack.pop()  # tsu + N + KA = NNKA\n",
        "                    to_add_to_output = 'н' + to_add_to_output\n",
        "            output_str += to_add_to_output\n",
        "\n",
        "        elif previous_syll_unit.state == 'small_tsu':\n",
        "            output_str += interpret_cons(current_syll)  # double cons\n",
        "\n",
        "    output_str += interpret_cons(current_syll)\n",
        "    # printed all consonants, move on to the vowel\n",
        "    # the whole current syll is used by vow_from_cons_plus_vow_syll\n",
        "    # just call it, no reading needed\n",
        "    vow_from_cons_plus_vow_syll()\n"
      ],
      "metadata": {
        "id": "P7Q_DfP2OLw9"
      },
      "execution_count": 3,
      "outputs": []
    },
    {
      "cell_type": "markdown",
      "source": [
        "Создадим состояние для интерпретации гласной в таком слоге.\n",
        "\n",
        "В это состояние автомат может зайти только из состояния cons_from_cons_plus_vow_syll. Состояние нужно, чтобы корректно интерпретировать гласные, поскольку гласная в таком слоге может влиять на следующий слог.\n",
        "\n",
        "В этом состоянии реализовано образование нового слога с помощью малого символа, правило редукции И и У в определенных контекстах и начинается правило удлиннения гласной."
      ],
      "metadata": {
        "id": "e2ydu4hoOK6m"
      }
    },
    {
      "cell_type": "code",
      "source": [
        "# state function\n",
        "def vow_from_cons_plus_vow_syll():\n",
        "    global input_str\n",
        "    global output_str\n",
        "    global pos_in_input_str\n",
        "    global need_clarifying_stack\n",
        "    global error_occurred\n",
        "\n",
        "    print_state_and_stack('vow_from_cons_plus_vow_syll')\n",
        "\n",
        "    current_syll = get_code(input_str[pos_in_input_str])\n",
        "    # not changing the pos bcs i was sent here after an input\n",
        "\n",
        "    pos_in_input_str += 1  # read next symbol\n",
        "    if pos_in_input_str >= len(input_str):\n",
        "        # end of word\n",
        "        if interpret_cons(current_syll) == 'с' and interpret_vow(current_syll) == 'у':\n",
        "            # редукция У на конце слова в слоге СУ\n",
        "            return True\n",
        "        output_str += interpret_vow(current_syll)\n",
        "        return True\n",
        "\n",
        "    next_syll = get_code(input_str[pos_in_input_str])\n",
        "\n",
        "    if next_syll in stop_symbols:\n",
        "        pos_in_input_str += 1\n",
        "        # end of word\n",
        "        if interpret_cons(current_syll) == 'с' and interpret_vow(current_syll) == 'у':\n",
        "            # редукция У на конце предложения в суффиксе СУ\n",
        "            return True\n",
        "        output_str += interpret_vow(current_syll)\n",
        "        return True\n",
        "\n",
        "    if next_syll in space_symbols:\n",
        "        pos_in_input_str += 1\n",
        "        # end of word\n",
        "        output_str += interpret_vow(current_syll)\n",
        "        output_str += ' '\n",
        "        begin_word()\n",
        "        return True\n",
        "\n",
        "    elif next_syll in small_tsu_symbols:\n",
        "        # tsu cant affect those before it\n",
        "        output_str += interpret_vow(current_syll)\n",
        "        small_tsu()\n",
        "        return True\n",
        "\n",
        "    elif next_syll in vowel_symbols:\n",
        "        # possibly a long O (prolonged by U)\n",
        "        # put this vow in a stack to interpret the next correctly\n",
        "        need_clarifying_stack.append(MyStackUnit(syll=current_syll,\n",
        "                                                 state='cons_plus_vow_syll'))\n",
        "        vow_syll()\n",
        "        return True\n",
        "\n",
        "    elif next_syll in small_vowel_symbols:\n",
        "        if interpret_vow(current_syll) == 'и':\n",
        "            output_str += interpret_small_vow(next_syll)  # КИ + small А = КЯ\n",
        "            pos_in_input_str += 1\n",
        "            new_syll()\n",
        "            return True\n",
        "        else:\n",
        "            error_occurred = True\n",
        "            return False  # small vowel only after cons+i\n",
        "\n",
        "    elif next_syll in n_syll_symbols:\n",
        "        # n doesnt affect the vowel\n",
        "        output_str += interpret_vow(current_syll)\n",
        "        n_syll()\n",
        "        return True\n",
        "\n",
        "    elif next_syll in cons_plus_vow_symbols:\n",
        "        current_vow_rus = interpret_vow(current_syll)\n",
        "        if current_syll in voiceless_symbols and next_syll in voiceless_symbols and \\\n",
        "                (current_vow_rus in ('и', 'у')):\n",
        "            # need to drop I or U between voiceless cons\n",
        "            if current_vow_rus == 'и':\n",
        "                output_str += 'ь'  # I drops between voiceless\n",
        "            else:\n",
        "                output_str += 'ъ'  # U drops between voiceless\n",
        "        else:\n",
        "            output_str += current_vow_rus\n",
        "        cons_from_cons_plus_vow_syll()\n",
        "        return True\n",
        "\n",
        "    else:\n",
        "        error_occurred = True  # not a japanese symbol\n",
        "        return False\n"
      ],
      "metadata": {
        "id": "S4iZobr9PpLY"
      },
      "execution_count": 52,
      "outputs": []
    },
    {
      "cell_type": "markdown",
      "source": [
        "# Проверка работы автомата"
      ],
      "metadata": {
        "id": "FO4hyK1LRFKY"
      }
    },
    {
      "cell_type": "markdown",
      "source": [
        "Я загружу на гитхаб файл, в котором написана последовательность символов, отражающих все, что должен делать автомат.\n",
        "\n",
        "И именно его мы и запустим, но сначала я покажу работу правил на отдельных  последовательностях.\n",
        "\n",
        "Для проверки звучания последовательностей вы можете забивать их в гугл переводчик вот таким образом, а затем нажимать кнопку \"озвучить\" в правой части:\n",
        "![image.png](data:image/png;base64,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)"
      ],
      "metadata": {
        "id": "sYpntfd2R7eh"
      }
    },
    {
      "cell_type": "markdown",
      "source": [
        "**Протестируем наш автомат на реальной фразе:**\n",
        "\n",
        "たなか さん わ おもしろい です\n",
        "\n",
        "Выводом будет:\n",
        "\n",
        "*танака сан уа омощирои дэс*\n",
        "\n",
        "Здесь видна нормальная работа программы и правило редукции У на конце предложения"
      ],
      "metadata": {
        "id": "GLQCVAT_Rb2k"
      }
    },
    {
      "cell_type": "markdown",
      "source": [
        "**Протестируем удлиннение:**\n",
        "\n",
        "Удлиннение согласной:\n",
        "しっぺろ\n",
        "*щиппэро*\n",
        "\n",
        "Удлиннение N, удлиннение гласной с помощью такой же гласной:\n",
        "しっんろお\n",
        "*щиннроо*\n",
        "\n",
        "Удлиннение N с последующей заменой обоих звуков на М, удлиннение гласной с помощью другой гласной\n",
        "しっんぽう\n",
        "*щиммпоо*"
      ],
      "metadata": {
        "id": "nz2_3O34Twl9"
      }
    },
    {
      "cell_type": "markdown",
      "source": [
        "**Протестируем образование новых слогов с помощью малых символов**\n",
        "\n",
        "С большим символом: そにや *сонийа*\n",
        "\n",
        "С малым символом: そにゃ *соня*\n",
        "\n",
        "Таким образом различаются, например, японские слова *десять* и *свобода*"
      ],
      "metadata": {
        "id": "Xz5v8QDNU-kM"
      }
    },
    {
      "cell_type": "markdown",
      "source": [
        "**Протестируем редукцию/выпадение У и И**\n",
        "\n",
        "И между глухими: ほちき хочики -> *хочьки*\n",
        "\n",
        "У между глухими: さすけ сасуке -> *сасъкэ*\n",
        "\n",
        "У в конце предложения в суффиксе СУ: ほす です\n",
        "*хосу дэс*"
      ],
      "metadata": {
        "id": "u6ug96hcWGDY"
      }
    },
    {
      "cell_type": "markdown",
      "source": [
        "Теперь приведем некоторые **ошибочные** последовательности:\n",
        "\n",
        "っぺろ начинается с малого っ\n",
        "\n",
        "そすゃ содержит малый символ не после слога формата согл+И\n",
        "\n",
        "しっんぽhお содержит не японский символ\n",
        "\n",
        "Я не включила эти последовательности в файл, так как одна такая последовательность делает всю строку невалидной"
      ],
      "metadata": {
        "id": "zlFMJzsOX96S"
      }
    },
    {
      "cell_type": "markdown",
      "source": [
        "### Запуск программы"
      ],
      "metadata": {
        "id": "jw-M8GY6agov"
      }
    },
    {
      "cell_type": "code",
      "source": [
        "with open('input_file.txt', encoding='utf-8') as file:\n",
        "    input_str = file.readline().strip()  # japanese word\n",
        "pos_in_input_str = 0\n",
        "output_str = ''  # russian\n",
        "error_occurred = False  # check if input is invalid\n",
        "need_clarifying_stack = deque()\n",
        "# symbols that are interpreted depending on those in front of them\n",
        "\n",
        "begin_word()\n",
        "\n",
        "print()\n",
        "print('_______________________________________________')\n",
        "print()\n",
        "if error_occurred:\n",
        "    print(f'{input_str} is not a valid hiragana line')\n",
        "    print(f'here is what i managed to transliterate: {output_str.strip()}')\n",
        "else:\n",
        "    print(input_str)\n",
        "    print(output_str.strip())"
      ],
      "metadata": {
        "colab": {
          "base_uri": "https://localhost:8080/"
        },
        "id": "BVzq-aMEac3H",
        "outputId": "b403d56c-bc0d-46dd-8e1b-08412d5b18a1"
      },
      "execution_count": 53,
      "outputs": [
        {
          "output_type": "stream",
          "name": "stdout",
          "text": [
            "im in begin_word, here is the stack: [ ]\n",
            "im in cons_from_cons_plus_vow_syll, here is the stack: [ ]\n",
            "im in vow_from_cons_plus_vow_syll, here is the stack: [ ]\n",
            "im in cons_from_cons_plus_vow_syll, here is the stack: [ ]\n",
            "im in vow_from_cons_plus_vow_syll, here is the stack: [ ]\n",
            "im in cons_from_cons_plus_vow_syll, here is the stack: [ ]\n",
            "im in vow_from_cons_plus_vow_syll, here is the stack: [ ]\n",
            "im in begin_word, here is the stack: [ ]\n",
            "im in cons_from_cons_plus_vow_syll, here is the stack: [ ]\n",
            "im in vow_from_cons_plus_vow_syll, here is the stack: [ ]\n",
            "im in n_syll, here is the stack: [ ]\n",
            "im in begin_word, here is the stack: [ ]\n",
            "im in cons_from_cons_plus_vow_syll, here is the stack: [ ]\n",
            "im in vow_from_cons_plus_vow_syll, here is the stack: [ ]\n",
            "im in begin_word, here is the stack: [ ]\n",
            "im in vow_syll, here is the stack: [ ]\n",
            "im in new_syll, here is the stack: [ ]\n",
            "im in cons_from_cons_plus_vow_syll, here is the stack: [ ]\n",
            "im in vow_from_cons_plus_vow_syll, here is the stack: [ ]\n",
            "im in cons_from_cons_plus_vow_syll, here is the stack: [ ]\n",
            "im in vow_from_cons_plus_vow_syll, here is the stack: [ ]\n",
            "im in cons_from_cons_plus_vow_syll, here is the stack: [ ]\n",
            "im in vow_from_cons_plus_vow_syll, here is the stack: [ ]\n",
            "im in vow_syll, here is the stack: [ ろ from cons_plus_vow_syll, ]\n",
            "im in new_syll, here is the stack: [ ]\n",
            "im in begin_word, here is the stack: [ ]\n",
            "im in cons_from_cons_plus_vow_syll, here is the stack: [ ]\n",
            "im in vow_from_cons_plus_vow_syll, here is the stack: [ ]\n",
            "im in cons_from_cons_plus_vow_syll, here is the stack: [ ]\n",
            "im in vow_from_cons_plus_vow_syll, here is the stack: [ ]\n",
            "im in begin_word, here is the stack: [ ]\n",
            "im in cons_from_cons_plus_vow_syll, here is the stack: [ ]\n",
            "im in vow_from_cons_plus_vow_syll, here is the stack: [ ]\n",
            "im in small_tsu, here is the stack: [ ]\n",
            "im in cons_from_cons_plus_vow_syll, here is the stack: [ っ from small_tsu, ]\n",
            "im in vow_from_cons_plus_vow_syll, here is the stack: [ ]\n",
            "im in cons_from_cons_plus_vow_syll, here is the stack: [ ]\n",
            "im in vow_from_cons_plus_vow_syll, here is the stack: [ ]\n",
            "im in begin_word, here is the stack: [ ]\n",
            "im in cons_from_cons_plus_vow_syll, here is the stack: [ ]\n",
            "im in vow_from_cons_plus_vow_syll, here is the stack: [ ]\n",
            "im in small_tsu, here is the stack: [ ]\n",
            "im in n_syll, here is the stack: [ っ from small_tsu, ]\n",
            "im in cons_from_cons_plus_vow_syll, here is the stack: [ ん from n_syll, っ from small_tsu, ]\n",
            "im in vow_from_cons_plus_vow_syll, here is the stack: [ ]\n",
            "im in vow_syll, here is the stack: [ ろ from cons_plus_vow_syll, ]\n",
            "im in new_syll, here is the stack: [ ]\n",
            "im in begin_word, here is the stack: [ ]\n",
            "im in cons_from_cons_plus_vow_syll, here is the stack: [ ]\n",
            "im in vow_from_cons_plus_vow_syll, here is the stack: [ ]\n",
            "im in small_tsu, here is the stack: [ ]\n",
            "im in n_syll, here is the stack: [ っ from small_tsu, ]\n",
            "im in cons_from_cons_plus_vow_syll, here is the stack: [ ん from n_syll, っ from small_tsu, ]\n",
            "im in vow_from_cons_plus_vow_syll, here is the stack: [ ]\n",
            "im in vow_syll, here is the stack: [ ぽ from cons_plus_vow_syll, ]\n",
            "im in new_syll, here is the stack: [ ]\n",
            "im in begin_word, here is the stack: [ ]\n",
            "im in cons_from_cons_plus_vow_syll, here is the stack: [ ]\n",
            "im in vow_from_cons_plus_vow_syll, here is the stack: [ ]\n",
            "im in cons_from_cons_plus_vow_syll, here is the stack: [ ]\n",
            "im in vow_from_cons_plus_vow_syll, here is the stack: [ ]\n",
            "im in cons_from_cons_plus_vow_syll, here is the stack: [ ]\n",
            "im in vow_from_cons_plus_vow_syll, here is the stack: [ ]\n",
            "im in begin_word, here is the stack: [ ]\n",
            "im in cons_from_cons_plus_vow_syll, here is the stack: [ ]\n",
            "im in vow_from_cons_plus_vow_syll, here is the stack: [ ]\n",
            "im in cons_from_cons_plus_vow_syll, here is the stack: [ ]\n",
            "im in vow_from_cons_plus_vow_syll, here is the stack: [ ]\n",
            "im in new_syll, here is the stack: [ ]\n",
            "im in begin_word, here is the stack: [ ]\n",
            "im in cons_from_cons_plus_vow_syll, here is the stack: [ ]\n",
            "im in vow_from_cons_plus_vow_syll, here is the stack: [ ]\n",
            "im in cons_from_cons_plus_vow_syll, here is the stack: [ ]\n",
            "im in vow_from_cons_plus_vow_syll, here is the stack: [ ]\n",
            "im in cons_from_cons_plus_vow_syll, here is the stack: [ ]\n",
            "im in vow_from_cons_plus_vow_syll, here is the stack: [ ]\n",
            "im in begin_word, here is the stack: [ ]\n",
            "im in cons_from_cons_plus_vow_syll, here is the stack: [ ]\n",
            "im in vow_from_cons_plus_vow_syll, here is the stack: [ ]\n",
            "im in cons_from_cons_plus_vow_syll, here is the stack: [ ]\n",
            "im in vow_from_cons_plus_vow_syll, here is the stack: [ ]\n",
            "im in cons_from_cons_plus_vow_syll, here is the stack: [ ]\n",
            "im in vow_from_cons_plus_vow_syll, here is the stack: [ ]\n",
            "im in begin_word, here is the stack: [ ]\n",
            "im in cons_from_cons_plus_vow_syll, here is the stack: [ ]\n",
            "im in vow_from_cons_plus_vow_syll, here is the stack: [ ]\n",
            "im in cons_from_cons_plus_vow_syll, here is the stack: [ ]\n",
            "im in vow_from_cons_plus_vow_syll, here is the stack: [ ]\n",
            "im in begin_word, here is the stack: [ ]\n",
            "im in cons_from_cons_plus_vow_syll, here is the stack: [ ]\n",
            "im in vow_from_cons_plus_vow_syll, here is the stack: [ ]\n",
            "im in cons_from_cons_plus_vow_syll, here is the stack: [ ]\n",
            "im in vow_from_cons_plus_vow_syll, here is the stack: [ ]\n",
            "\n",
            "_______________________________________________\n",
            "\n",
            "たなか さん わ おもしろい です しっぺろ しっんろお しっんぽう そにや そにゃ ほちき さすけ ほす です\n",
            "танака сан уа омощирои дэсу щиппэро щиннроо щиммпоо сонийа соня хочьки сасъкэ хосу дэс\n"
          ]
        }
      ]
    }
  ]
}
